{
  "cells": [
    {
      "cell_type": "code",
      "execution_count": 20,
      "metadata": {
        "collapsed": true,
        "pycharm": {
          "is_executing": false
        }
      },
      "outputs": [],
      "source": "import os\nimport cv2\n"
    },
    {
      "cell_type": "code",
      "execution_count": 27,
      "outputs": [],
      "source": "\npath_to_imgs \u003d \"/Users/fedor.denisov/Development/tasks/eggs_vs_pan_recognition/dataset/train/images/\"\npath_to_masks \u003d \"/Users/fedor.denisov/Development/tasks/eggs_vs_pan_recognition/dataset/train/masks/\"\n\npath_to_formatted_dataset \u003d \"/Users/fedor.denisov/Development/tasks/eggs_vs_pan_recognition/dataset_train_formatted_4/\"\n\npath_train_imgs \u003d path_to_formatted_dataset + \"train/\"\npath_train_masks \u003d path_to_formatted_dataset + \"train_labels/\"\npath_validation_imgs \u003d path_to_formatted_dataset + \"val/\"\npath_validation_masks \u003d path_to_formatted_dataset + \"val_labels/\"\npath_dev_imgs \u003d path_to_formatted_dataset + \"test/\"\npath_dev_masks \u003d path_to_formatted_dataset + \"test_labels/\"\n\n",
      "metadata": {
        "pycharm": {
          "metadata": false,
          "name": "#%%\n",
          "is_executing": false
        }
      }
    },
    {
      "cell_type": "code",
      "execution_count": 28,
      "outputs": [],
      "source": "\ndef image_resize(image, width, height, inter \u003d cv2.INTER_AREA):\n    # initialize the dimensions of the image to be resized and\n    # grab the image size\n    dim \u003d None\n    (h, w) \u003d image.shape[:2]\n\n    # if both the width and height are None, then return the\n    # original image\n    if width is None and height is None:\n        return image\n\n    # check to see if the width is None\n    if width is None:\n        # calculate the ratio of the height and construct the\n        # dimensions\n        r \u003d height / float(h)\n        dim \u003d (int(w * r), height)\n\n    # otherwise, the height is None\n    else:\n        # calculate the ratio of the width and construct the\n        # dimensions\n        r \u003d width / float(w)\n        dim \u003d (width, int(h * r))\n\n    # resize the image\n    resized \u003d cv2.resize(image, dim, interpolation \u003d inter)\n\n    # return the resized image\n    return resized\n\n\ndef resize_with_padding(image, size):\n    h, w \u003d image.shape[:2]\n    if h/size[0] \u003d\u003d w/size[1]:\n        return image_resize(image, None, size[0])\n\n    if h/size[0] \u003e w/size[1]:\n        resized \u003d image_resize(image, None, size[1])\n    else:\n        resized \u003d image_resize(image, size[0], None)\n\n    h_res, w_res \u003d resized.shape[:2]\n\n    return cv2.copyMakeBorder(resized, 0, size[0] - h_res, 0, size[1] - w_res, cv2.BORDER_CONSTANT, value\u003d[0, 0, 0])\n\ndef copy_image(path_to_imgs, img_name, new_path_to_imgs):\n    original_path \u003d path_to_imgs + img_name\n    new_path \u003d new_path_to_imgs + os.path.splitext(img_name)[0] + \u0027.png\u0027\n    img \u003d cv2.imread(original_path)\n    image_padded \u003d resize_with_padding(img,(512,512))\n    cv2.imwrite(new_path, image_padded)\n    \n\ndef validate_image_and_labels(path_to_imgs, path_to_labels, img_name):\n    img \u003d cv2.imread(path_to_imgs + img_name)\n    label \u003d cv2.imread(path_to_labels + img_name)\n    return not (img is None or label is None)\n    \n",
      "metadata": {
        "pycharm": {
          "metadata": false,
          "name": "#%%\n",
          "is_executing": false
        }
      }
    },
    {
      "cell_type": "code",
      "execution_count": 29,
      "outputs": [
        {
          "name": "stdout",
          "text": [
            "398\n0\n"
          ],
          "output_type": "stream"
        }
      ],
      "source": "images_filenames \u003d os.listdir(path_to_imgs)\n\n\nfailed \u003d 0\nfor image_filename in images_filenames:\n    if not os.path.exists(path_to_imgs + image_filename):\n        failed +\u003d 1\n    if not os.path.exists(path_to_masks + image_filename):\n        failed +\u003d 1\n\nprint(len(images_filenames))\nprint(failed)\n",
      "metadata": {
        "pycharm": {
          "metadata": false,
          "name": "#%%\n",
          "is_executing": false
        }
      }
    },
    {
      "cell_type": "code",
      "execution_count": 30,
      "outputs": [],
      "source": "from random import shuffle\n\nimages_filenames_available \u003d list(filter(lambda image_name: \n                                         validate_image_and_labels(path_to_imgs, path_to_masks, image_name), \n                                         images_filenames))\n\nnum_dev \u003d 70\nnum_validation \u003d 28\nnum_train \u003d len(images_filenames_available) - num_dev - num_validation\n\nshuffle(images_filenames)\n",
      "metadata": {
        "pycharm": {
          "metadata": false,
          "name": "#%%\n",
          "is_executing": false
        }
      }
    },
    {
      "cell_type": "code",
      "execution_count": 31,
      "outputs": [
        {
          "name": "stdout",
          "text": [
            "start preprocessing\n",
            "finish preprocessing\n"
          ],
          "output_type": "stream"
        }
      ],
      "source": "\nprint (\u0027start preprocessing\u0027)\nfor i in range(0,num_dev):\n    copy_image(path_to_imgs, images_filenames[i], path_dev_imgs)\n    copy_image(path_to_masks, images_filenames[i], path_dev_masks)\n    \nfor i in range(num_dev, num_dev + num_validation):\n    copy_image(path_to_imgs, images_filenames[i], path_validation_imgs)\n    copy_image(path_to_masks, images_filenames[i], path_validation_masks)\n    \n    \nfor i in range(num_dev + num_validation, num_dev + num_validation + num_train):\n    copy_image(path_to_imgs, images_filenames[i], path_train_imgs)\n    copy_image(path_to_masks, images_filenames[i], path_train_masks)\n\nprint (\u0027finish preprocessing\u0027)",
      "metadata": {
        "pycharm": {
          "metadata": false,
          "name": "#%%\n",
          "is_executing": false
        }
      }
    },
    {
      "cell_type": "code",
      "execution_count": 32,
      "outputs": [
        {
          "traceback": [
            "\u001b[0;31m---------------------------------------------------------------------------\u001b[0m",
            "\u001b[0;31mAttributeError\u001b[0m                            Traceback (most recent call last)",
            "\u001b[0;32m\u003cipython-input-32-d279914861bd\u003e\u001b[0m in \u001b[0;36m\u003cmodule\u003e\u001b[0;34m\u001b[0m\n\u001b[1;32m      6\u001b[0m \u001b[0mimg\u001b[0m \u001b[0;34m\u003d\u001b[0m \u001b[0mcv2\u001b[0m\u001b[0;34m.\u001b[0m\u001b[0mimread\u001b[0m\u001b[0;34m(\u001b[0m\u001b[0mpath_to_img_test\u001b[0m\u001b[0;34m)\u001b[0m\u001b[0;34m\u001b[0m\u001b[0;34m\u001b[0m\u001b[0m\n\u001b[1;32m      7\u001b[0m \u001b[0;34m\u001b[0m\u001b[0m\n\u001b[0;32m----\u003e 8\u001b[0;31m \u001b[0mimage_padded\u001b[0m \u001b[0;34m\u003d\u001b[0m \u001b[0mresize_with_padding\u001b[0m\u001b[0;34m(\u001b[0m\u001b[0mimg\u001b[0m\u001b[0;34m,\u001b[0m\u001b[0;34m(\u001b[0m\u001b[0;36m1024\u001b[0m\u001b[0;34m,\u001b[0m\u001b[0;36m1024\u001b[0m\u001b[0;34m)\u001b[0m\u001b[0;34m)\u001b[0m\u001b[0;34m\u001b[0m\u001b[0;34m\u001b[0m\u001b[0m\n\u001b[0m",
            "\u001b[0;32m\u003cipython-input-28-3f211cdde0fb\u003e\u001b[0m in \u001b[0;36mresize_with_padding\u001b[0;34m(image, size)\u001b[0m\n\u001b[1;32m     33\u001b[0m \u001b[0;34m\u001b[0m\u001b[0m\n\u001b[1;32m     34\u001b[0m \u001b[0;32mdef\u001b[0m \u001b[0mresize_with_padding\u001b[0m\u001b[0;34m(\u001b[0m\u001b[0mimage\u001b[0m\u001b[0;34m,\u001b[0m \u001b[0msize\u001b[0m\u001b[0;34m)\u001b[0m\u001b[0;34m:\u001b[0m\u001b[0;34m\u001b[0m\u001b[0;34m\u001b[0m\u001b[0m\n\u001b[0;32m---\u003e 35\u001b[0;31m     \u001b[0mh\u001b[0m\u001b[0;34m,\u001b[0m \u001b[0mw\u001b[0m \u001b[0;34m\u003d\u001b[0m \u001b[0mimage\u001b[0m\u001b[0;34m.\u001b[0m\u001b[0mshape\u001b[0m\u001b[0;34m[\u001b[0m\u001b[0;34m:\u001b[0m\u001b[0;36m2\u001b[0m\u001b[0;34m]\u001b[0m\u001b[0;34m\u001b[0m\u001b[0;34m\u001b[0m\u001b[0m\n\u001b[0m\u001b[1;32m     36\u001b[0m     \u001b[0;32mif\u001b[0m \u001b[0mh\u001b[0m\u001b[0;34m/\u001b[0m\u001b[0msize\u001b[0m\u001b[0;34m[\u001b[0m\u001b[0;36m0\u001b[0m\u001b[0;34m]\u001b[0m \u001b[0;34m\u003d\u003d\u001b[0m \u001b[0mw\u001b[0m\u001b[0;34m/\u001b[0m\u001b[0msize\u001b[0m\u001b[0;34m[\u001b[0m\u001b[0;36m1\u001b[0m\u001b[0;34m]\u001b[0m\u001b[0;34m:\u001b[0m\u001b[0;34m\u001b[0m\u001b[0;34m\u001b[0m\u001b[0m\n\u001b[1;32m     37\u001b[0m         \u001b[0;32mreturn\u001b[0m \u001b[0mimage_resize\u001b[0m\u001b[0;34m(\u001b[0m\u001b[0mimage\u001b[0m\u001b[0;34m,\u001b[0m \u001b[0;32mNone\u001b[0m\u001b[0;34m,\u001b[0m \u001b[0msize\u001b[0m\u001b[0;34m[\u001b[0m\u001b[0;36m0\u001b[0m\u001b[0;34m]\u001b[0m\u001b[0;34m)\u001b[0m\u001b[0;34m\u001b[0m\u001b[0;34m\u001b[0m\u001b[0m\n",
            "\u001b[0;31mAttributeError\u001b[0m: \u0027NoneType\u0027 object has no attribute \u0027shape\u0027"
          ],
          "ename": "AttributeError",
          "evalue": "\u0027NoneType\u0027 object has no attribute \u0027shape\u0027",
          "output_type": "error"
        }
      ],
      "source": "\n\n\npath_to_img_test \u003d \"/Users/fedor.denisov/Development/tasks/eggs_vs_pan_recognition/dataset_train_formatted_3/test/image_35.png\"\n\nimg \u003d cv2.imread(path_to_img_test)\n    \nimage_padded \u003d resize_with_padding(img,(1024,1024))",
      "metadata": {
        "pycharm": {
          "metadata": false,
          "name": "#%%\n",
          "is_executing": false
        }
      }
    },
    {
      "cell_type": "code",
      "execution_count": null,
      "outputs": [],
      "source": "image_padded.shape",
      "metadata": {
        "pycharm": {
          "metadata": false,
          "name": "#%%\n",
          "is_executing": true
        }
      }
    },
    {
      "cell_type": "code",
      "execution_count": 34,
      "outputs": [],
      "source": "\npath_to_imgs \u003d \"/Users/fedor.denisov/Development/tasks/eggs_vs_pan_recognition/dataset/test/images/\"\npath_to_result \u003d \"/Users/fedor.denisov/Development/tasks/eggs_vs_pan_recognition/test_wl/images/\"\n\nimages_filenames \u003d os.listdir(path_to_imgs)\n\nfor filename in images_filenames:\n    copy_image(path_to_imgs, filename, path_to_result)\n    \n    \n    ",
      "metadata": {
        "pycharm": {
          "metadata": false,
          "name": "#%%\n",
          "is_executing": false
        }
      }
    },
    {
      "cell_type": "code",
      "execution_count": null,
      "outputs": [],
      "source": "path_to_test_imgs \u003d \"/Users/fedor.denisov/Development/tasks/eggs_vs_pan_recognition/test_wl/images/\"\npath_to_masks \u003d \"/Users/fedor.denisov/Development/tasks/eggs_vs_pan_recognition/test_wl_result/masks/\"\npath_to_masks_cropped \u003d \"/Users/fedor.denisov/Development/tasks/eggs_vs_pan_recognition/test_wl_result/masks_cropped/\"\n\nimages_filenames \u003d os.listdir(path_to_test_imgs)\n\nfor filename in images_filenames:\n    original_path_img \u003d path_to_test_imgs + filename\n    original_path_mask \u003d path_to_masks + filename\n    new_path \u003d path_to_masks_cropped + os.path.splitext(filename)[0] + \u0027.png\u0027\n    img \u003d cv2.imread(original_path_img)\n    mask \u003d cv2.imread(original_path_mask)\n    h, w \u003d img.shape[:2]\n    cv2.imwrite(new_path, mask[0:h,0:w])\n\n\n",
      "metadata": {
        "pycharm": {
          "metadata": false,
          "name": "#%%\n"
        }
      }
    }
  ],
  "metadata": {
    "language_info": {
      "codemirror_mode": {
        "name": "ipython",
        "version": 2
      },
      "file_extension": ".py",
      "mimetype": "text/x-python",
      "name": "python",
      "nbconvert_exporter": "python",
      "pygments_lexer": "ipython2",
      "version": "2.7.6"
    },
    "kernelspec": {
      "name": "python3",
      "language": "python",
      "display_name": "Python 3"
    }
  },
  "nbformat": 4,
  "nbformat_minor": 0
}